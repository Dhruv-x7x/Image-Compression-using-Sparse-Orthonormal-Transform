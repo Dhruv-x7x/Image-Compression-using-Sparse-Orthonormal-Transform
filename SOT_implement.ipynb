{
  "nbformat": 4,
  "nbformat_minor": 0,
  "metadata": {
    "colab": {
      "provenance": [],
      "collapsed_sections": [
        "e2L_Do0pjjAK",
        "_McuJvQHxZDc"
      ]
    },
    "kernelspec": {
      "name": "python3",
      "display_name": "Python 3"
    },
    "language_info": {
      "name": "python"
    }
  },
  "cells": [
    {
      "cell_type": "markdown",
      "source": [
        "## Sparse Orthonormal Transforms\n",
        "---\n",
        "\n",
        "I implemented the SOT algorithm based on \"Approximation and Compression with Sparse Orthonormal Transforms, Osman G. Sezer, Onur G. Guleryuz, and Yucel Altunbasak.\""
      ],
      "metadata": {
        "id": "nvW9KP8Dge8f"
      }
    },
    {
      "cell_type": "markdown",
      "source": [
        "## Get Libraries"
      ],
      "metadata": {
        "id": "e2L_Do0pjjAK"
      }
    },
    {
      "cell_type": "code",
      "source": [
        "!pip install bitarray\n",
        "!pip install huffman\n",
        "import numpy as np\n",
        "import matplotlib.pyplot as plt\n",
        "import os\n",
        "import cv2 as cv\n",
        "import pickle\n",
        "import bitarray\n",
        "import struct\n",
        "import math\n",
        "import heapq\n",
        "from collections import namedtuple\n",
        "from collections import Counter\n",
        "from PIL import Image\n",
        "import huffman\n",
        "import ast"
      ],
      "metadata": {
        "colab": {
          "base_uri": "https://localhost:8080/"
        },
        "id": "CySc15rJhXLe",
        "outputId": "c4f3fb10-2cf3-4714-b138-af5081932096"
      },
      "execution_count": null,
      "outputs": [
        {
          "output_type": "stream",
          "name": "stdout",
          "text": [
            "Collecting bitarray\n",
            "  Downloading bitarray-3.0.0-cp310-cp310-manylinux_2_17_x86_64.manylinux2014_x86_64.whl.metadata (32 kB)\n",
            "Downloading bitarray-3.0.0-cp310-cp310-manylinux_2_17_x86_64.manylinux2014_x86_64.whl (278 kB)\n",
            "\u001b[?25l   \u001b[90m━━━━━━━━━━━━━━━━━━━━━━━━━━━━━━━━━━━━━━━━\u001b[0m \u001b[32m0.0/278.3 kB\u001b[0m \u001b[31m?\u001b[0m eta \u001b[36m-:--:--\u001b[0m\r\u001b[2K   \u001b[91m━━━━━━━━━━━━━━━━━━━━━━━━━━━━━━━━━━━━━━━\u001b[0m\u001b[91m╸\u001b[0m \u001b[32m276.5/278.3 kB\u001b[0m \u001b[31m126.3 MB/s\u001b[0m eta \u001b[36m0:00:01\u001b[0m\r\u001b[2K   \u001b[90m━━━━━━━━━━━━━━━━━━━━━━━━━━━━━━━━━━━━━━━━\u001b[0m \u001b[32m278.3/278.3 kB\u001b[0m \u001b[31m6.4 MB/s\u001b[0m eta \u001b[36m0:00:00\u001b[0m\n",
            "\u001b[?25hInstalling collected packages: bitarray\n",
            "Successfully installed bitarray-3.0.0\n",
            "Collecting huffman\n",
            "  Downloading huffman-0.1.2-py2.py3-none-any.whl.metadata (1.4 kB)\n",
            "Downloading huffman-0.1.2-py2.py3-none-any.whl (4.6 kB)\n",
            "Installing collected packages: huffman\n",
            "Successfully installed huffman-0.1.2\n"
          ]
        }
      ]
    },
    {
      "cell_type": "markdown",
      "source": [
        "## Initialize, Cost Functions and SOT algorithm"
      ],
      "metadata": {
        "id": "J1T-3fRRjnfu"
      }
    },
    {
      "cell_type": "code",
      "source": [
        "def init_blocks(image, n):\n",
        "    \"\"\"Divide the image into non-overlapping blocks of size n x n.\"\"\"\n",
        "    h, w = image.shape\n",
        "    return [image[i:i+n, j:j+n] for i in range(0, h, n) for j in range(0, w, n)]"
      ],
      "metadata": {
        "id": "IxZzLozFgV7I"
      },
      "execution_count": null,
      "outputs": []
    },
    {
      "cell_type": "code",
      "source": [
        "def thresholding(coefficients, lambda_value):\n",
        "    \"\"\"Apply thresholding to enforce sparsity.\"\"\"\n",
        "    threshold = np.sqrt(lambda_value)\n",
        "    return np.where(np.abs(coefficients) >= threshold, coefficients, 0)"
      ],
      "metadata": {
        "id": "ZkTc5Ps-g4FY"
      },
      "execution_count": null,
      "outputs": []
    },
    {
      "cell_type": "code",
      "source": [
        "def init_transform(N):\n",
        "  \"\"\"\n",
        "  Initialize the transform.\n",
        "  \"\"\"\n",
        "  return np.identity(N)"
      ],
      "metadata": {
        "id": "sMMapCZJiHTF"
      },
      "execution_count": null,
      "outputs": []
    },
    {
      "cell_type": "code",
      "source": [
        "def get_coefficients(transform, block, lambda_value):\n",
        "    \"\"\"Compute sparse coefficients using the current transform. [1]\"\"\"\n",
        "    x_vec = block.flatten()\n",
        "    coeffs = np.dot(transform.T, x_vec)\n",
        "    return thresholding(coeffs, lambda_value)"
      ],
      "metadata": {
        "id": "63o3YV82inRE"
      },
      "execution_count": null,
      "outputs": []
    },
    {
      "cell_type": "code",
      "source": [
        "# Generate a 16x16 grayscale image with random pixel values (0-255) to test the functions\n",
        "image_16x16 = np.random.randint(0, 256, (16, 16), dtype=np.uint8)\n",
        "G = init_transform(64)\n",
        "blocks = init_blocks(image_16x16,8)\n",
        "coeff_blocks = [get_coefficients(G,block,15625) for block in blocks]\n",
        "print(image_16x16)\n",
        "print(G)\n",
        "print(blocks)\n",
        "print(coeff_blocks)\n",
        "print(coeff_blocks[0].shape)"
      ],
      "metadata": {
        "id": "61adSh2KkUKf"
      },
      "execution_count": null,
      "outputs": []
    },
    {
      "cell_type": "markdown",
      "source": [
        "So far so good. All the above functions are working as intended."
      ],
      "metadata": {
        "id": "z6MX-OaKQZw6"
      }
    },
    {
      "cell_type": "code",
      "source": [
        "def update_transform(blocks, coefficients):\n",
        "    \"\"\"\n",
        "    Update transform using covariance-based optimization.\n",
        "    This transform is learned from the entire image but then applied block by block.\n",
        "    Refer to Proposition 3: optimize G for a given set of coefficients. [2][3][5]\n",
        "    \"\"\"\n",
        "    cov = sum(np.outer(a, b.flatten()) for a, b in zip(coefficients, blocks))\n",
        "    U, _, Vh = np.linalg.svd(cov, full_matrices=False)\n",
        "    return np.dot(U, Vh)"
      ],
      "metadata": {
        "id": "w62-sM5onpRh"
      },
      "execution_count": null,
      "outputs": []
    },
    {
      "cell_type": "code",
      "source": [
        "def distortion_cost(block, transform, coefficients):\n",
        "    \"\"\"Compute distortion cost ||block - G*coefficients||^2. [4]\"\"\"\n",
        "    reconstructed = np.dot(transform, coefficients)\n",
        "    return np.linalg.norm(block.flatten() - reconstructed) ** 2\n",
        "\n",
        "def complexity_cost(lambda_value, coefficients):\n",
        "    \"\"\"Compute sparsity cost as lambda * l0_norm.\"\"\"\n",
        "    return lambda_value * np.count_nonzero(coefficients)"
      ],
      "metadata": {
        "id": "9o1BArNwueXo"
      },
      "execution_count": null,
      "outputs": []
    },
    {
      "cell_type": "code",
      "source": [
        "def sot(image, n, lambda_, epsilon, max_iters):\n",
        "    \"\"\"Train a single transform using the given parameters.\"\"\"\n",
        "\n",
        "    G = init_transform(n)\n",
        "\n",
        "    blocks = init_blocks(image, n) # initialize blocks\n",
        "    prev_cost = float('inf') # initialize to inf\n",
        "\n",
        "    for block in blocks:\n",
        "        coefficients = get_coefficients(G, block, lambda_) # get coeffs\n",
        "        G = update_transform(block, coefficients) # update G\n",
        "        cost = distortion_cost(block,G,coefficients) + complexity_cost(lambda_, coefficients) # calculate cost\n",
        "\n",
        "        if np.abs(prev_cost - cost) < epsilon:  # Check for convergence\n",
        "            break\n",
        "        prev_cost = cost # update previous cost\n",
        "\n",
        "    return G, coefficients"
      ],
      "metadata": {
        "id": "00bcLlXEwPBk"
      },
      "execution_count": null,
      "outputs": []
    },
    {
      "cell_type": "markdown",
      "source": [
        "## References\n",
        "\n",
        "- [1] Python Tutorial https://www.pythontutorial.net/python-numpy/numpy-flatten/\n",
        "- [2] Numpy Docs https://numpy.org/doc/stable/reference/generated/numpy.outer.html\n",
        "- [3] Numpy Docs https://numpy.org/doc/stable/reference/generated/numpy.linalg.svd.html\n",
        "- [4] Numpy Docs https://numpy.org/doc/stable/reference/generated/numpy.linalg.norm.html\n",
        "- [5] G4G https://www.geeksforgeeks.org/zip-in-python/\n",
        "- Adam Colton https://github.com/theAdamColton/spiht/blob/main/spiht/spiht_py.py"
      ],
      "metadata": {
        "id": "cpGh1LKvJ6ie"
      }
    }
  ]
}